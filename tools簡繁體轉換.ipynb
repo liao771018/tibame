{
  "nbformat": 4,
  "nbformat_minor": 0,
  "metadata": {
    "colab": {
      "name": "tools簡繁體轉換.ipynb",
      "provenance": [],
      "authorship_tag": "ABX9TyNIH6ioKaxJnSDT85AcvwE2",
      "include_colab_link": true
    },
    "kernelspec": {
      "name": "python3",
      "display_name": "Python 3"
    },
    "language_info": {
      "name": "python"
    }
  },
  "cells": [
    {
      "cell_type": "markdown",
      "metadata": {
        "id": "view-in-github",
        "colab_type": "text"
      },
      "source": [
        "<a href=\"https://colab.research.google.com/github/liao771018/tibame-ML/blob/main/tools%E7%B0%A1%E7%B9%81%E9%AB%94%E8%BD%89%E6%8F%9B.ipynb\" target=\"_parent\"><img src=\"https://colab.research.google.com/assets/colab-badge.svg\" alt=\"Open In Colab\"/></a>"
      ]
    },
    {
      "cell_type": "code",
      "execution_count": null,
      "metadata": {
        "colab": {
          "base_uri": "https://localhost:8080/"
        },
        "id": "501RQsQ5zMlB",
        "outputId": "264e52a9-a8c3-42db-d0de-d4ee45c8a62d"
      },
      "outputs": [
        {
          "output_type": "stream",
          "name": "stdout",
          "text": [
            "Looking in indexes: https://pypi.org/simple, https://us-python.pkg.dev/colab-wheels/public/simple/\n",
            "Collecting opencc-python-reimplemented\n",
            "  Downloading opencc-python-reimplemented-0.1.6.tar.gz (484 kB)\n",
            "\u001b[K     |████████████████████████████████| 484 kB 5.0 MB/s \n",
            "\u001b[?25hBuilding wheels for collected packages: opencc-python-reimplemented\n",
            "  Building wheel for opencc-python-reimplemented (setup.py) ... \u001b[?25l\u001b[?25hdone\n",
            "  Created wheel for opencc-python-reimplemented: filename=opencc_python_reimplemented-0.1.6-py2.py3-none-any.whl size=486152 sha256=f8f760e825fc9b4d0a85eaab923aaefabcf2479f99cb91f1330b270d94572f55\n",
            "  Stored in directory: /root/.cache/pip/wheels/4e/e2/60/d062d260be08788bb389521544a8fc173de9a9a78d6a593344\n",
            "Successfully built opencc-python-reimplemented\n",
            "Installing collected packages: opencc-python-reimplemented\n",
            "Successfully installed opencc-python-reimplemented-0.1.6\n"
          ]
        }
      ],
      "source": [
        "# 簡繁體轉換\n",
        "# https://pypi.org/project/opencc-python-reimplemented/\n",
        "!pip install opencc-python-reimplemented"
      ]
    },
    {
      "cell_type": "code",
      "source": [
        "# 去網站複製貼過來\n",
        "from opencc import OpenCC\n",
        "cc = OpenCC('s2tw')  # convert from Simplified Chinese to Traditional Chinese\n",
        "# can also set conversion by calling set_conversion\n",
        "# cc.set_conversion('s2tw')\n",
        "to_convert = '开放中文转换'\n",
        "converted = cc.convert(to_convert)\n",
        "converted"
      ],
      "metadata": {
        "colab": {
          "base_uri": "https://localhost:8080/",
          "height": 36
        },
        "id": "KLrFq8zs0pw6",
        "outputId": "e45c9555-3d2c-4bf4-850a-1b8826cbfb25"
      },
      "execution_count": null,
      "outputs": [
        {
          "output_type": "execute_result",
          "data": {
            "text/plain": [
              "'開放中文轉換'"
            ],
            "application/vnd.google.colaboratory.intrinsic+json": {
              "type": "string"
            }
          },
          "metadata": {},
          "execution_count": 4
        }
      ]
    },
    {
      "cell_type": "code",
      "source": [
        "# 測試 jieba 使用方式\n",
        "\n",
        "news = \"\"\"高雄日前爆出劣質FLOWFLEX富樂快篩試劑無法判讀引發關注，新竹地檢署分案調查發現，進口商大鑫資訊公司得標高雄、台中、新竹等10多項政府採購快篩試劑案後，涉嫌違法進口中國大陸劣質「富樂家用新冠抗原快速檢測試劑FlowflexCOVID-19AntigenHomeTest」，混充美國製交貨，藉此牟取巨額暴利。\n",
        "\n",
        "檢察官翁貫育今（13）天指揮調查局台北市調查處及新竹縣調查站搜索大鑫公司、倉庫及負責人住家等共5處所，查扣富樂家用新冠抗原快速檢測試劑1400箱以上、超過45萬支試劑，並同步約談犯罪嫌疑人公司負責人朱壽暉、執行長黃南競等5人到案，目前正由調查官詢問中，晚間將移送新竹地檢署複訊。\n",
        "\n",
        "調查局指出，大鑫公司於111年5月10日獲食藥署核准輸入由美國Laboratories,Inc.製造已獲FDA緊急授權使用（EUA）之「富樂家用新冠抗原快速檢測試劑Flowflex COVID-19 Antigen Home Test」，取得國防部軍醫局、新竹縣竹北市公所、台中市政府衛生局、高雄市政府衛生局等十餘件政府採購標案。\n",
        "\n",
        "調查局續指，大鑫公司交貨時竟委託中國大陸艾康生物技術（杭州）有限公司生產包裝後運送至香港，再由香港以空運方式運送來台，並不實標示產地為「USA」，該公司不到1個月時間內已進口約237萬劑，但履約交付政府機關後發送民眾後，卻陸續經民眾反映無法呈現測試線（T）、品管線（C）之檢測結果。\n",
        "\n",
        "檢調查出，大鑫公司實際輸入產品與食藥署核准專案進口之「富樂家用新冠抗原快速檢測試劑FlowflexCOVID-19AntigenHomeTest」不同，除涉有產地虛偽標記外，品質也不良，相關人員已涉嫌違反《醫療器材管理法》及妨害農工商、詐欺等罪嫌。\"\"\""
      ],
      "metadata": {
        "id": "lf9SF02c1JB7"
      },
      "execution_count": null,
      "outputs": []
    },
    {
      "cell_type": "code",
      "source": [
        "# 分詞 1.載入大字典  2.自定義辭典(utf-8)\n",
        "import jieba\n",
        "from urllib.request import urlretrieve\n",
        "\n",
        "url = 'https://github.com/fxsjy/jieba/raw/master/extra_dict/dict.txt.big'\n",
        "urlretrieve(url, 'dict.txt.big') # 下載\n",
        "\n",
        "# 設定大字典\n",
        "jieba.set_dictionary('dict.txt.big')\n",
        "\n",
        "# 加入自定義辭典\n",
        "jieba.load_userdict('dict.news.txt')"
      ],
      "metadata": {
        "colab": {
          "base_uri": "https://localhost:8080/"
        },
        "id": "12iXHnaYF26F",
        "outputId": "9719db75-4c80-4671-a8d6-cfcbe295f469"
      },
      "execution_count": null,
      "outputs": [
        {
          "output_type": "stream",
          "name": "stderr",
          "text": [
            "Building prefix dict from /content/dict.txt.big ...\n",
            "Dumping model to file cache /tmp/jieba.u501edca284da514cb68b53a20324f4e3.cache\n",
            "Loading model cost 1.789 seconds.\n",
            "Prefix dict has been built successfully.\n"
          ]
        }
      ]
    },
    {
      "cell_type": "code",
      "source": [
        "' '.join(jieba.cut(news))"
      ],
      "metadata": {
        "colab": {
          "base_uri": "https://localhost:8080/",
          "height": 192
        },
        "id": "dm4kkBqsG_2x",
        "outputId": "f7ff1f6c-55b0-4862-8897-3e30858134b6"
      },
      "execution_count": null,
      "outputs": [
        {
          "output_type": "execute_result",
          "data": {
            "text/plain": [
              "'高雄 日前 爆出 劣質 FLOWFLEX 富樂 快篩試劑 無法 判讀 引發 關注 ， 新竹 地檢署 分案 調查 發現 ， 進口商 大鑫 資訊 公司 得標 高雄 、 台 中 、 新竹 等 10 多項 政府 採購 快篩試劑 案 後 ， 涉嫌 違法 進口 中國大陸 劣質 「 富樂 家用 新冠 抗原 快速 檢測 試劑 FlowflexCOVID - 19AntigenHomeTest 」 ， 混充 美國 製 交貨 ， 藉此 牟取 巨額 暴利 。 \\n \\n 檢察官 翁貫育 今 （ 13 ） 天 指揮 調查局 台北市 調查 處及 新竹縣 調查 站 搜索 大鑫 公司 、 倉庫 及 負責人 住家 等 共 5 處所 ， 查扣 富樂 家用 新冠 抗原 快速 檢測 試劑 1400 箱 以上 、 超過 45 萬支 試劑 ， 並 同步 約談 犯罪 嫌疑人 公司 負責人 朱壽暉 、 執行長 黃南 競等 5 人 到案 ， 目前 正由 調查 官 詢問 中 ， 晚間 將 移送 新竹 地檢署 複訊 。 \\n \\n 調查局 指出 ， 大鑫 公司 於 111 年 5 月 10 日獲 食藥署 核准 輸入 由 美國 Laboratories , Inc . 製造 已獲 FDA 緊急 授權 使用 （ EUA ） 之 「 富樂 家用 新冠 抗原 快速 檢測 試劑 Flowflex   COVID - 19   Antigen   Home   Test 」 ， 取得 國防部 軍醫 局 、 新竹縣 竹北 市公所 、 台中市 政府 衛生局 、 高雄市 政府 衛生局 等 十餘件 政府 採購 標案 。 \\n \\n 調查局 續指 ， 大鑫 公司 交貨 時竟 委託 中國大陸 艾康 生物 技術 （ 杭州 ） 有限公司 生產 包裝 後 運送 至 香港 ， 再 由 香港 以 空運 方式 運 送來 台 ， 並不實 標示 產地 為 「 USA 」 ， 該 公司 不到 1 個 月 時間 內 已 進口 約 237 萬劑 ， 但 履約 交付 政府 機關 後 發送 民眾 後 ， 卻 陸續 經民眾 反映 無法 呈現 測試 線 （ T ） 、 品管線 （ C ） 之 檢測 結果 。 \\n \\n 檢 調查 出 ， 大鑫 公司 實際 輸入 產品 與 食藥署 核准 專案 進口 之 「 富樂 家用 新冠 抗原 快速 檢測 試劑 FlowflexCOVID - 19AntigenHomeTest 」 不同 ， 除涉 有 產地 虛偽 標記 外 ， 品質 也 不良 ， 相關 人員 已 涉嫌 違反 《 醫療 器材 管理法 》 及 妨害 農工商 、 詐欺 等 罪嫌 。'"
            ],
            "application/vnd.google.colaboratory.intrinsic+json": {
              "type": "string"
            }
          },
          "metadata": {},
          "execution_count": 17
        }
      ]
    },
    {
      "cell_type": "code",
      "source": [
        "# jieba 關鍵詞分詞 TF-IDF \n",
        "import jieba.analyse\n",
        "\n",
        "# 重要性分詞\n",
        "jieba.analyse.extract_tags(news)\n",
        "\n",
        "# 顯示加權分數的參數\n",
        "jieba.analyse.extract_tags(news, withWeight=True)\n",
        "\n",
        "# 試試各個參數, topK=前幾名, allowPOS=詞的類型 (在Github上可以找到詞性列表)\n",
        "jieba.analyse.extract_tags(news, topK=None, withWeight=True, allowPOS=[\"n\", \"nr\", \"nz\", \"ns\", \"nz\"])"
      ],
      "metadata": {
        "colab": {
          "base_uri": "https://localhost:8080/"
        },
        "id": "fbDug5ln7PCJ",
        "outputId": "7af58cce-d753-4beb-e720-b30040173ec7"
      },
      "execution_count": null,
      "outputs": [
        {
          "output_type": "execute_result",
          "data": {
            "text/plain": [
              "[('富樂', 0.8790270222720588),\n",
              " ('大鑫', 0.8605480201911765),\n",
              " ('新冠', 0.703221617817647),\n",
              " ('家用', 0.515928172767647),\n",
              " ('抗原', 0.5152361232629412),\n",
              " ('新竹', 0.43894561470838234),\n",
              " ('公司', 0.3606513177214706),\n",
              " ('政府', 0.33597579058970595),\n",
              " ('高雄', 0.2755317105535294),\n",
              " ('核准', 0.22929071822235295),\n",
              " ('市公所', 0.20442173017647058),\n",
              " ('分案', 0.17580540445441176),\n",
              " ('翁貫', 0.17580540445441176),\n",
              " ('朱壽暉', 0.17580540445441176),\n",
              " ('竹北', 0.17580540445441176),\n",
              " ('標案', 0.17580540445441176),\n",
              " ('續指', 0.17580540445441176),\n",
              " ('艾康', 0.17580540445441176),\n",
              " ('萬劑', 0.17580540445441176),\n",
              " ('民眾', 0.17580540445441176),\n",
              " ('經民眾', 0.17580540445441176),\n",
              " ('罪嫌', 0.17580540445441176),\n",
              " ('香港', 0.1709445837264706),\n",
              " ('藉此', 0.1636483666132353),\n",
              " ('高雄市', 0.15831152111764704),\n",
              " ('台中市', 0.15650854579411766),\n",
              " ('住家', 0.15256348716764706),\n",
              " ('管理法', 0.14749230354558823),\n",
              " ('台北市', 0.1423701462764706),\n",
              " ('暴利', 0.1288952825725),\n",
              " ('嫌疑人', 0.12025136102970588),\n",
              " ('器材', 0.11923035358220589),\n",
              " ('杭州', 0.0935693381207353),\n",
              " ('生物', 0.08699815091529411),\n",
              " ('有限公司', 0.07637780719014706),\n",
              " ('方式', 0.0706101813142647)]"
            ]
          },
          "metadata": {},
          "execution_count": 18
        }
      ]
    }
  ]
}