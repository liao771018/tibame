{
  "nbformat": 4,
  "nbformat_minor": 0,
  "metadata": {
    "colab": {
      "name": "regression.ipynb",
      "provenance": [],
      "collapsed_sections": [],
      "authorship_tag": "ABX9TyN/6yKxGCseVG1wkTXfA/X2",
      "include_colab_link": true
    },
    "kernelspec": {
      "name": "python3",
      "display_name": "Python 3"
    },
    "language_info": {
      "name": "python"
    }
  },
  "cells": [
    {
      "cell_type": "markdown",
      "metadata": {
        "id": "view-in-github",
        "colab_type": "text"
      },
      "source": [
        "<a href=\"https://colab.research.google.com/github/liao771018/tibame/blob/main/regression.ipynb\" target=\"_parent\"><img src=\"https://colab.research.google.com/assets/colab-badge.svg\" alt=\"Open In Colab\"/></a>"
      ]
    },
    {
      "cell_type": "code",
      "execution_count": null,
      "metadata": {
        "id": "iOKbkjshxHGg"
      },
      "outputs": [],
      "source": [
        ""
      ]
    },
    {
      "cell_type": "markdown",
      "source": [
        "CRIM：人均犯罪率\n",
        "\n",
        "ZN：25,000平方英尺以上民用土地的比例\n",
        "\n",
        "INDUS：城镇非零售业商用土地比例\n",
        "\n",
        "CHAS：是否邻近查尔斯河，1是邻近，0是不邻近\n",
        "\n",
        "NOX：一氧化氮浓度（千万分之一）\n",
        "\n",
        "RM：住宅的平均房间数\n",
        "\n",
        "AGE：自住且建于1940年前的房屋比例\n",
        "\n",
        "DIS：到5个波士顿就业中心的加权距离\n",
        "\n",
        "RAD：到高速公路的便捷度指数\n",
        "\n",
        "TAX：每万元的房产税率\n",
        "\n",
        "PTRATIO：城镇学生教师比例\n",
        "\n",
        "B： 1000(Bk − 0.63)2 其中Bk是城镇中黑人比例\n",
        "\n",
        "LSTAT：低收入人群比例\n",
        "\n",
        "ans：自住房中位数价格，单位是千元"
      ],
      "metadata": {
        "id": "zOZ9QVwG_kD1"
      }
    },
    {
      "cell_type": "code",
      "source": [
        "# 整理資料/資料預處理\n",
        "# Boston房價資料集\n",
        "import pandas as pd\n",
        "from sklearn.datasets import load_boston\n",
        "\n",
        "boston = load_boston()\n",
        "df = pd.DataFrame(boston['data'], columns=boston[\"feature_names\"])\n",
        "df[\"ans\"] = boston[\"target\"]\n",
        "df.to_csv(\"boston.csv\", encoding='utf-8', index=False)\n",
        "df"
      ],
      "metadata": {
        "id": "z9pgBFUN-WdI"
      },
      "execution_count": null,
      "outputs": []
    },
    {
      "cell_type": "code",
      "source": [
        "# 資料預處理/整理: pandas  機器學習: numpy\n",
        "# 訓練時會切成兩份， 把題目跟答案切開帶入， 帶入資料訓練模型\n",
        "\n",
        "import numpy as np\n",
        "# 型態 numpy array\n",
        "x = np.array(df.drop([\"ans\"], axis=1)) # 題目\n",
        "y = np.array(df[\"ans\"])         # 答案"
      ],
      "metadata": {
        "id": "QzMn_RlbE38D"
      },
      "execution_count": null,
      "outputs": []
    },
    {
      "cell_type": "code",
      "source": [
        "# test_size 會隨機切分 ， 相同的 index 會同時切分\n",
        "# 大部分人會切 9:1 / 8:2 切分\n",
        "from sklearn.model_selection import train_test_split\n",
        "\n",
        "# Ex 範例\n",
        "# a,b,c,d = train_test_split([1, 2, 3, 4], [\"a\", \"b\", \"c\", \"d\"], test_size=0.25)\n",
        "# print(a,b,c,d)  ->  [4, 2, 1] [3] ['d', 'b', 'a'] ['c']\n",
        "\n",
        "# [ 90%x, 10%x, 90%y, 10%y ]\n",
        "x_train, x_test, y_train, y_test = train_test_split(x, y, test_size=0.1)"
      ],
      "metadata": {
        "id": "eMJ1gdgbG7pn"
      },
      "execution_count": null,
      "outputs": []
    },
    {
      "cell_type": "code",
      "source": [
        "# 帶入模型\n",
        "from sklearn.tree import DecisionTreeRegressor\n",
        "# max_depth 先隨便設 依結果回頭再改\n",
        "reg = DecisionTreeRegressor(max_depth=3)\n",
        "reg.fit(x_train, y_train)"
      ],
      "metadata": {
        "id": "Ha2fYOUxBlGr"
      },
      "execution_count": null,
      "outputs": []
    },
    {
      "cell_type": "code",
      "source": [
        "# 畫圖\n",
        "import matplotlib.pyplot as plt\n",
        "from sklearn.tree import plot_tree\n",
        "\n",
        "plt.figure(figsize=(15, 15))\n",
        "\n",
        "plot_tree(reg, \n",
        "     feature_names=boston[\"feature_names\"],\n",
        "     filled=True,\n",
        "     max_depth=2  # 圖形畫兩層來解釋，第三層後會用...顯示\n",
        "     )\n"
      ],
      "metadata": {
        "id": "DgSoLfPjCOlz"
      },
      "execution_count": null,
      "outputs": []
    },
    {
      "cell_type": "code",
      "source": [
        "# 評估\n",
        "from sklearn.metrics import r2_score\n",
        "pre = reg.predict(x_test)\n",
        "r2_score(y_test, pre)"
      ],
      "metadata": {
        "id": "vG_eI72JEJpr"
      },
      "execution_count": null,
      "outputs": []
    },
    {
      "cell_type": "code",
      "source": [
        "# r2_score分數出來後，再回頭修改 max_depth\n",
        "\n",
        "from sklearn.model_selection import train_test_split\n",
        "x_train, x_test, y_train, y_test = train_test_split(x, y, test_size=0.1)\n",
        "\n",
        "from sklearn.tree import DecisionTreeRegressor\n",
        "reg = DecisionTreeRegressor(max_depth=4)\n",
        "reg.fit(x_train, y_train)\n",
        "\n",
        "from sklearn.metrics import r2_score\n",
        "pre = reg.predict(x_test)\n",
        "r2_score(y_test, pre)  \n"
      ],
      "metadata": {
        "id": "RcZFzveyTouz"
      },
      "execution_count": null,
      "outputs": []
    }
  ]
}