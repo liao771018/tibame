{
  "nbformat": 4,
  "nbformat_minor": 0,
  "metadata": {
    "colab": {
      "name": "classification.ipynb",
      "provenance": [],
      "collapsed_sections": [],
      "authorship_tag": "ABX9TyOWXD/5cym8r1ZVO17EXRRv",
      "include_colab_link": true
    },
    "kernelspec": {
      "name": "python3",
      "display_name": "Python 3"
    },
    "language_info": {
      "name": "python"
    }
  },
  "cells": [
    {
      "cell_type": "markdown",
      "metadata": {
        "id": "view-in-github",
        "colab_type": "text"
      },
      "source": [
        "<a href=\"https://colab.research.google.com/github/liao771018/tibame-ML/blob/main/classification.ipynb\" target=\"_parent\"><img src=\"https://colab.research.google.com/assets/colab-badge.svg\" alt=\"Open In Colab\"/></a>"
      ]
    },
    {
      "cell_type": "code",
      "execution_count": null,
      "metadata": {
        "id": "iOKbkjshxHGg"
      },
      "outputs": [],
      "source": [
        "# Iris資料集\n",
        "import pandas as pd\n",
        "from sklearn.datasets import load_iris\n",
        "\n",
        "# 整理資料，取出需要分析的欄位\n",
        "iris = load_iris()\n",
        "df = pd.DataFrame(iris['data'], columns=iris[\"feature_names\"])\n",
        "df[\"ans\"] = iris[\"target\"]\n",
        "df.to_csv(\"iris.csv\", encoding='utf-8', index=False)\n",
        "df"
      ]
    },
    {
      "cell_type": "code",
      "source": [
        "# 資料預處理/整理: pandas  機器學習: numpy\n",
        "# 訓練時會切成兩份， 把題目跟答案切開帶入， 帶入資料訓練模型\n",
        "\n",
        "import numpy as np\n",
        "# 型態 numpy array\n",
        "x = np.array(df.drop([\"ans\"], axis=1)) # 題目\n",
        "y = np.array(df[\"ans\"])         # 答案\n",
        "\n",
        "# test_size 會隨機切分 ， 相同的 index 會同時切分\n",
        "# 大部分人會切 9:1 / 8:2 切分\n",
        "from sklearn.model_selection import train_test_split\n",
        "\n",
        "# Ex 範例\n",
        "# a,b,c,d = train_test_split([1, 2, 3, 4], [\"A\", \"B\", \"C\", \"D\"], test_size=0.25)\n",
        "# print(a,b,c,d)  ->  [4, 2, 1] [3] ['D', 'B', 'A'] ['C']\n",
        "\n",
        "# [ 90%x, 10%x, 90%y, 10%y ]\n",
        "x_train, x_test, y_train, y_test = train_test_split(x, y, test_size=0.1)"
      ],
      "metadata": {
        "id": "QzMn_RlbE38D"
      },
      "execution_count": null,
      "outputs": []
    },
    {
      "cell_type": "code",
      "source": [
        "# 將訓練資料帶入模型\n",
        "# 決策樹的劃分 -> 決策點，絕對會讓肯定的程度提高\n",
        "from sklearn.tree import DecisionTreeClassifier\n",
        "clf = DecisionTreeClassifier()\n",
        "clf.fit(x_train, y_train)"
      ],
      "metadata": {
        "id": "DvyyKn1plVIE"
      },
      "execution_count": null,
      "outputs": []
    },
    {
      "cell_type": "code",
      "source": [
        "# 畫出決策樹的圖形\n",
        "# Gini 吉尼係數 -> 猜錯的機率\n",
        "# Gini係數越來越小表示是一個好的決策樹\n",
        "# 持續劃分到 Gini 係數最後降到 0 \n",
        "import matplotlib.pyplot as plt\n",
        "from sklearn.tree import plot_tree\n",
        "# 圖的大小\n",
        "plt.figure(figsize=(15, 15))\n",
        "\n",
        "# feature_name 就是這些 sepal length (cm), sepal width (cm),\tpetal length (cm),\tpetal width (cm)\n",
        "# class_names  是  setosa, versicolor, virginica\n",
        "plot_tree(clf, \n",
        "     feature_names=iris[\"feature_names\"],\n",
        "     class_names=iris[\"target_names\"],\n",
        "     filled=True)\n"
      ],
      "metadata": {
        "id": "KhLQsl7qlj_l"
      },
      "execution_count": null,
      "outputs": []
    },
    {
      "cell_type": "code",
      "source": [
        "# 預測\n",
        "pre = clf.predict(x_test)\n",
        "\n",
        "# 評估模型的預測標準 (再回頭調整參數) -> 過擬和 : 千萬不要訓練到最完美(太過稀少的是不算數)\n",
        "# 選擇評估標準(分類): 1.正確率  2.f1 score\n",
        "from sklearn.metrics import accuracy_score\n",
        "accuracy_score(y_test, pre)"
      ],
      "metadata": {
        "id": "KqNLi9s9y-64"
      },
      "execution_count": null,
      "outputs": []
    },
    {
      "cell_type": "code",
      "source": [
        "# 回頭調整參數\n",
        "# 加入 max_depth=停在第幾層 後的對比\n",
        "\n",
        "x_train, x_test, y_train, y_test = train_test_split(x, y, test_size=0.1)\n",
        "\n",
        "# 決策樹的劃分 -> 決策點，絕對會讓肯定的程度提高\n",
        "from sklearn.tree import DecisionTreeClassifier\n",
        "clf = DecisionTreeClassifier(max_depth=2)\n",
        "clf.fit(x_train, y_train)\n",
        "\n",
        "\n",
        "import matplotlib.pyplot as plt\n",
        "from sklearn.tree import plot_tree\n",
        "\n",
        "plt.figure(figsize=(15, 15))\n",
        "\n",
        "plot_tree(clf, \n",
        "     feature_names=iris[\"feature_names\"],\n",
        "     class_names=iris[\"target_names\"],\n",
        "     filled=True)\n",
        "\n",
        "\n",
        "pre = clf.predict(x_test)\n",
        "\n",
        "from sklearn.metrics import accuracy_score\n",
        "accuracy_score(y_test, pre)"
      ],
      "metadata": {
        "id": "6_HFekPu3fIE"
      },
      "execution_count": null,
      "outputs": []
    }
  ]
}