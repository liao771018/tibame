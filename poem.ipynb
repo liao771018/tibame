{
  "nbformat": 4,
  "nbformat_minor": 0,
  "metadata": {
    "colab": {
      "name": "poem.ipynb",
      "provenance": [],
      "collapsed_sections": [],
      "authorship_tag": "ABX9TyPZN1o4qgL6ko365higNenp",
      "include_colab_link": true
    },
    "kernelspec": {
      "name": "python3",
      "display_name": "Python 3"
    },
    "language_info": {
      "name": "python"
    }
  },
  "cells": [
    {
      "cell_type": "markdown",
      "metadata": {
        "id": "view-in-github",
        "colab_type": "text"
      },
      "source": [
        "<a href=\"https://colab.research.google.com/github/liao771018/tibame-ML/blob/main/poem.ipynb\" target=\"_parent\"><img src=\"https://colab.research.google.com/assets/colab-badge.svg\" alt=\"Open In Colab\"/></a>"
      ]
    },
    {
      "cell_type": "code",
      "execution_count": 12,
      "metadata": {
        "colab": {
          "base_uri": "https://localhost:8080/"
        },
        "id": "B12v-mIINca4",
        "outputId": "c53de6bf-2b71-4ae2-a0ca-2ae92e626169"
      },
      "outputs": [
        {
          "output_type": "execute_result",
          "data": {
            "text/plain": [
              "('test.csv', <http.client.HTTPMessage at 0x7fbff24e6290>)"
            ]
          },
          "metadata": {},
          "execution_count": 12
        }
      ],
      "source": [
        "# 載入老師的訓練資料\n",
        "from urllib.request import urlretrieve\n",
        "\n",
        "url = 'https://github.com/Elwing-Chou/tibaml0606/raw/main/poem_train.csv'\n",
        "urlretrieve(url, 'train.csv')\n",
        "url = 'https://github.com/Elwing-Chou/tibaml0606/raw/main/poem_test.csv'\n",
        "urlretrieve(url, 'test.csv')"
      ]
    },
    {
      "cell_type": "code",
      "source": [
        "# 資料預處理\n",
        "\n",
        "import pandas as pd\n",
        "\n",
        "train_df = pd.read_csv('train.csv', encoding='utf-8')\n",
        "test_df = pd.read_csv('test.csv', encoding='utf-8')"
      ],
      "metadata": {
        "id": "cR6JHqnMO9jS"
      },
      "execution_count": 13,
      "outputs": []
    },
    {
      "cell_type": "code",
      "source": [
        "train_df"
      ],
      "metadata": {
        "id": "3h09FoUUPhi_",
        "colab": {
          "base_uri": "https://localhost:8080/",
          "height": 424
        },
        "outputId": "7de3801a-b573-4b57-de3a-b01cb6085962"
      },
      "execution_count": 14,
      "outputs": [
        {
          "output_type": "execute_result",
          "data": {
            "text/plain": [
              "       作者                  詩名  \\\n",
              "0      李白         菩薩蠻·平林漠漠煙如織   \n",
              "1      李白                把酒問月   \n",
              "2      李白                  春思   \n",
              "3      李白              春夜洛城聞笛   \n",
              "4      李白              古風 其十九   \n",
              "...   ...                 ...   \n",
              "2726  白居易             彆元九後詠所懷   \n",
              "2727  白居易              早秋曲江感懷   \n",
              "2728  白居易         東墟晚歇　時退居渭村。   \n",
              "2729  白居易                 南秦雪   \n",
              "2730  白居易  寄蘄州簟與元九因題六韻　時元九鰥居。   \n",
              "\n",
              "                                                     內容  \n",
              "0     平林漠漠煙如織，寒山一帶傷心碧。\\r\\n暝色入高樓，有人樓上愁。玉階空佇立，宿鳥歸飛急。\\r...  \n",
              "1     青天有月來幾時，我今停杯一問之：人攀明月不可得，月行卻與人相隨？皎如飛鏡臨丹闕，綠煙滅儘清輝...  \n",
              "2                  燕草如碧絲，秦桑低綠枝。當君懷歸日，是妾斷腸時。春風不相識，何事入羅幃。  \n",
              "3                      誰家玉笛暗飛聲，散入春風滿洛城。此夜曲中聞折柳，何人不起故園情。  \n",
              "4     西上蓮花山，迢迢見明星。(西上 一作：西嶽)素手把芙蓉，虛步躡太清。霓裳曳廣帶，飄拂升天行。...  \n",
              "...                                                 ...  \n",
              "2726  零落桐葉雨，蕭條槿花風。悠悠早秋意，生此幽閒中。況與故人彆，中懷正無悰。勿雲不相送，心到青門...  \n",
              "2727  離離暑雲散，嫋嫋涼風起。池上秋又來，荷花半成子。朱顏易銷歇，白日無窮已。人壽不如山，年光急於...  \n",
              "2728  涼風冷露蕭索天，黃蒿紫菊荒涼田。繞塚秋花少顏色，細蟲小蝶飛翻翻。中有騰騰獨行者，手拄漁竿不騎...  \n",
              "2729  往歲曾為西邑吏，慣從駱口到南秦。\\r\\n三時雲冷多飛雪，二月山寒少有春。\\r\\n我思舊事猶惆...  \n",
              "2730  笛竹出蘄春，霜刀劈翠筠。織成雙鎖簟，寄與獨眠人。卷作筒中信，舒為席上珍。滑如鋪薤葉，冷似臥龍...  \n",
              "\n",
              "[2731 rows x 3 columns]"
            ],
            "text/html": [
              "\n",
              "  <div id=\"df-b70c6619-8309-4397-9a9c-d755eadbd7bc\">\n",
              "    <div class=\"colab-df-container\">\n",
              "      <div>\n",
              "<style scoped>\n",
              "    .dataframe tbody tr th:only-of-type {\n",
              "        vertical-align: middle;\n",
              "    }\n",
              "\n",
              "    .dataframe tbody tr th {\n",
              "        vertical-align: top;\n",
              "    }\n",
              "\n",
              "    .dataframe thead th {\n",
              "        text-align: right;\n",
              "    }\n",
              "</style>\n",
              "<table border=\"1\" class=\"dataframe\">\n",
              "  <thead>\n",
              "    <tr style=\"text-align: right;\">\n",
              "      <th></th>\n",
              "      <th>作者</th>\n",
              "      <th>詩名</th>\n",
              "      <th>內容</th>\n",
              "    </tr>\n",
              "  </thead>\n",
              "  <tbody>\n",
              "    <tr>\n",
              "      <th>0</th>\n",
              "      <td>李白</td>\n",
              "      <td>菩薩蠻·平林漠漠煙如織</td>\n",
              "      <td>平林漠漠煙如織，寒山一帶傷心碧。\\r\\n暝色入高樓，有人樓上愁。玉階空佇立，宿鳥歸飛急。\\r...</td>\n",
              "    </tr>\n",
              "    <tr>\n",
              "      <th>1</th>\n",
              "      <td>李白</td>\n",
              "      <td>把酒問月</td>\n",
              "      <td>青天有月來幾時，我今停杯一問之：人攀明月不可得，月行卻與人相隨？皎如飛鏡臨丹闕，綠煙滅儘清輝...</td>\n",
              "    </tr>\n",
              "    <tr>\n",
              "      <th>2</th>\n",
              "      <td>李白</td>\n",
              "      <td>春思</td>\n",
              "      <td>燕草如碧絲，秦桑低綠枝。當君懷歸日，是妾斷腸時。春風不相識，何事入羅幃。</td>\n",
              "    </tr>\n",
              "    <tr>\n",
              "      <th>3</th>\n",
              "      <td>李白</td>\n",
              "      <td>春夜洛城聞笛</td>\n",
              "      <td>誰家玉笛暗飛聲，散入春風滿洛城。此夜曲中聞折柳，何人不起故園情。</td>\n",
              "    </tr>\n",
              "    <tr>\n",
              "      <th>4</th>\n",
              "      <td>李白</td>\n",
              "      <td>古風 其十九</td>\n",
              "      <td>西上蓮花山，迢迢見明星。(西上 一作：西嶽)素手把芙蓉，虛步躡太清。霓裳曳廣帶，飄拂升天行。...</td>\n",
              "    </tr>\n",
              "    <tr>\n",
              "      <th>...</th>\n",
              "      <td>...</td>\n",
              "      <td>...</td>\n",
              "      <td>...</td>\n",
              "    </tr>\n",
              "    <tr>\n",
              "      <th>2726</th>\n",
              "      <td>白居易</td>\n",
              "      <td>彆元九後詠所懷</td>\n",
              "      <td>零落桐葉雨，蕭條槿花風。悠悠早秋意，生此幽閒中。況與故人彆，中懷正無悰。勿雲不相送，心到青門...</td>\n",
              "    </tr>\n",
              "    <tr>\n",
              "      <th>2727</th>\n",
              "      <td>白居易</td>\n",
              "      <td>早秋曲江感懷</td>\n",
              "      <td>離離暑雲散，嫋嫋涼風起。池上秋又來，荷花半成子。朱顏易銷歇，白日無窮已。人壽不如山，年光急於...</td>\n",
              "    </tr>\n",
              "    <tr>\n",
              "      <th>2728</th>\n",
              "      <td>白居易</td>\n",
              "      <td>東墟晚歇　時退居渭村。</td>\n",
              "      <td>涼風冷露蕭索天，黃蒿紫菊荒涼田。繞塚秋花少顏色，細蟲小蝶飛翻翻。中有騰騰獨行者，手拄漁竿不騎...</td>\n",
              "    </tr>\n",
              "    <tr>\n",
              "      <th>2729</th>\n",
              "      <td>白居易</td>\n",
              "      <td>南秦雪</td>\n",
              "      <td>往歲曾為西邑吏，慣從駱口到南秦。\\r\\n三時雲冷多飛雪，二月山寒少有春。\\r\\n我思舊事猶惆...</td>\n",
              "    </tr>\n",
              "    <tr>\n",
              "      <th>2730</th>\n",
              "      <td>白居易</td>\n",
              "      <td>寄蘄州簟與元九因題六韻　時元九鰥居。</td>\n",
              "      <td>笛竹出蘄春，霜刀劈翠筠。織成雙鎖簟，寄與獨眠人。卷作筒中信，舒為席上珍。滑如鋪薤葉，冷似臥龍...</td>\n",
              "    </tr>\n",
              "  </tbody>\n",
              "</table>\n",
              "<p>2731 rows × 3 columns</p>\n",
              "</div>\n",
              "      <button class=\"colab-df-convert\" onclick=\"convertToInteractive('df-b70c6619-8309-4397-9a9c-d755eadbd7bc')\"\n",
              "              title=\"Convert this dataframe to an interactive table.\"\n",
              "              style=\"display:none;\">\n",
              "        \n",
              "  <svg xmlns=\"http://www.w3.org/2000/svg\" height=\"24px\"viewBox=\"0 0 24 24\"\n",
              "       width=\"24px\">\n",
              "    <path d=\"M0 0h24v24H0V0z\" fill=\"none\"/>\n",
              "    <path d=\"M18.56 5.44l.94 2.06.94-2.06 2.06-.94-2.06-.94-.94-2.06-.94 2.06-2.06.94zm-11 1L8.5 8.5l.94-2.06 2.06-.94-2.06-.94L8.5 2.5l-.94 2.06-2.06.94zm10 10l.94 2.06.94-2.06 2.06-.94-2.06-.94-.94-2.06-.94 2.06-2.06.94z\"/><path d=\"M17.41 7.96l-1.37-1.37c-.4-.4-.92-.59-1.43-.59-.52 0-1.04.2-1.43.59L10.3 9.45l-7.72 7.72c-.78.78-.78 2.05 0 2.83L4 21.41c.39.39.9.59 1.41.59.51 0 1.02-.2 1.41-.59l7.78-7.78 2.81-2.81c.8-.78.8-2.07 0-2.86zM5.41 20L4 18.59l7.72-7.72 1.47 1.35L5.41 20z\"/>\n",
              "  </svg>\n",
              "      </button>\n",
              "      \n",
              "  <style>\n",
              "    .colab-df-container {\n",
              "      display:flex;\n",
              "      flex-wrap:wrap;\n",
              "      gap: 12px;\n",
              "    }\n",
              "\n",
              "    .colab-df-convert {\n",
              "      background-color: #E8F0FE;\n",
              "      border: none;\n",
              "      border-radius: 50%;\n",
              "      cursor: pointer;\n",
              "      display: none;\n",
              "      fill: #1967D2;\n",
              "      height: 32px;\n",
              "      padding: 0 0 0 0;\n",
              "      width: 32px;\n",
              "    }\n",
              "\n",
              "    .colab-df-convert:hover {\n",
              "      background-color: #E2EBFA;\n",
              "      box-shadow: 0px 1px 2px rgba(60, 64, 67, 0.3), 0px 1px 3px 1px rgba(60, 64, 67, 0.15);\n",
              "      fill: #174EA6;\n",
              "    }\n",
              "\n",
              "    [theme=dark] .colab-df-convert {\n",
              "      background-color: #3B4455;\n",
              "      fill: #D2E3FC;\n",
              "    }\n",
              "\n",
              "    [theme=dark] .colab-df-convert:hover {\n",
              "      background-color: #434B5C;\n",
              "      box-shadow: 0px 1px 3px 1px rgba(0, 0, 0, 0.15);\n",
              "      filter: drop-shadow(0px 1px 2px rgba(0, 0, 0, 0.3));\n",
              "      fill: #FFFFFF;\n",
              "    }\n",
              "  </style>\n",
              "\n",
              "      <script>\n",
              "        const buttonEl =\n",
              "          document.querySelector('#df-b70c6619-8309-4397-9a9c-d755eadbd7bc button.colab-df-convert');\n",
              "        buttonEl.style.display =\n",
              "          google.colab.kernel.accessAllowed ? 'block' : 'none';\n",
              "\n",
              "        async function convertToInteractive(key) {\n",
              "          const element = document.querySelector('#df-b70c6619-8309-4397-9a9c-d755eadbd7bc');\n",
              "          const dataTable =\n",
              "            await google.colab.kernel.invokeFunction('convertToInteractive',\n",
              "                                                     [key], {});\n",
              "          if (!dataTable) return;\n",
              "\n",
              "          const docLinkHtml = 'Like what you see? Visit the ' +\n",
              "            '<a target=\"_blank\" href=https://colab.research.google.com/notebooks/data_table.ipynb>data table notebook</a>'\n",
              "            + ' to learn more about interactive tables.';\n",
              "          element.innerHTML = '';\n",
              "          dataTable['output_type'] = 'display_data';\n",
              "          await google.colab.output.renderOutput(dataTable, element);\n",
              "          const docLink = document.createElement('div');\n",
              "          docLink.innerHTML = docLinkHtml;\n",
              "          element.appendChild(docLink);\n",
              "        }\n",
              "      </script>\n",
              "    </div>\n",
              "  </div>\n",
              "  "
            ]
          },
          "metadata": {},
          "execution_count": 14
        }
      ]
    },
    {
      "cell_type": "code",
      "source": [
        "# 傳到 ML/DL 函示庫前， 要把資料轉換成數字\n",
        "# Series.replace(字典)\n",
        "# Series.unique():回傳唯一值 / Series.value_counts():回傳唯一值跟次數\n",
        "names = train_df[\"作者\"].unique()\n",
        "\n",
        "# 將作者轉換為對應數字的字典\n",
        "name2idx = {names[i]:i for i in range(len(names))}\n",
        "idx2name = {i:names[i] for i in range(len(names))}\n",
        "\n",
        "# 設定回原本的訓練資料，並轉換為np.array\n",
        "import numpy as np\n",
        "\n",
        "# 這是答案(作者)\n",
        "y_train = train_df[\"作者\"].replace(name2idx)\n",
        "y_test = test_df[\"作者\"].replace(name2idx)\n",
        "y_train = np.array(y_train)\n",
        "y_test = np.array(y_test)\n",
        "\n",
        "\n",
        "# 一般情況要載入大辭典及自定義辭典做分詞，但詩詞情況較特別，不需載入大辭典\n",
        "# Series.apply(function名稱) 對Series裡的每一個值放進函式處理\n",
        "import jieba\n",
        "\n",
        "def change(p):\n",
        "  return ' '.join(jieba.cut(p))\n",
        "\n",
        "# 引入 jieba 把內容做分詞，再用空白連結\n",
        "x_train = train_df[\"內容\"].apply(change)\n",
        "x_test = test_df[\"內容\"].apply(change)"
      ],
      "metadata": {
        "id": "4p8znU1XQHfm"
      },
      "execution_count": 15,
      "outputs": []
    },
    {
      "cell_type": "code",
      "source": [
        "# 分詞完看一下\n",
        "# y_train\n",
        "# y_test\n",
        "x_train\n",
        "# x_test"
      ],
      "metadata": {
        "colab": {
          "base_uri": "https://localhost:8080/"
        },
        "id": "mkFgFOBt65Eg",
        "outputId": "503d254a-37f8-44ac-d29b-7093731abce3"
      },
      "execution_count": 16,
      "outputs": [
        {
          "output_type": "execute_result",
          "data": {
            "text/plain": [
              "0       平林 漠漠 煙如織 ， 寒山 一帶 傷心 碧 。 \\r\\n 暝 色入 高樓 ， 有人 樓上 ...\n",
              "1       青天 有 月 來 幾時 ， 我今 停杯 一問 之 ： 人攀 明月 不可 得 ， 月行 卻 與...\n",
              "2       燕草 如碧絲 ， 秦桑低 綠枝 。 當君 懷歸日 ， 是 妾 斷腸時 。 春風 不 相識 ，...\n",
              "3       誰 家玉笛 暗飛聲 ， 散 入春 風滿 洛城 。 此 夜曲 中聞折 柳 ， 何人 不起 故園情 。\n",
              "4       西上 蓮 花山 ， 迢迢 見 明星 。 ( 西 上   一作 ： 西 嶽 ) 素 手把 芙蓉...\n",
              "                              ...                        \n",
              "2726    零落 桐葉雨 ， 蕭條 槿 花風 。 悠悠 早 秋意 ， 生此 幽閒 中 。 況 與 故人 ...\n",
              "2727    離離 暑雲散 ， 嫋嫋 涼風起 。 池上 秋 又 來 ， 荷花 半成 子 。 朱顏易銷 歇 ...\n",
              "2728    涼風 冷露 蕭索天 ， 黃 蒿 紫菊荒 涼田 。 繞 塚 秋花少 顏色 ， 細蟲 小蝶飛 翻...\n",
              "2729    往歲 曾 為 西邑吏 ， 慣 從 駱口 到 南秦 。 \\r\\n 三時 雲冷多 飛雪 ， 二月...\n",
              "2730    笛 竹出 蘄 春 ， 霜刀 劈翠筠 。 織成 雙鎖 簟 ， 寄 與 獨眠 人 。 卷作筒 中...\n",
              "Name: 內容, Length: 2731, dtype: object"
            ]
          },
          "metadata": {},
          "execution_count": 16
        }
      ]
    },
    {
      "cell_type": "code",
      "source": [
        "# 將文字轉成代碼\n",
        "from sklearn.feature_extraction.text import CountVectorizer\n",
        "vec = CountVectorizer()\n",
        "\n",
        "# fit : 學會有多少詞彙\n",
        "# transform : 把詞彙完成轉換\n",
        "\n",
        "# 將訓練資料的分詞設定轉換成代碼\n",
        "x_train_count = vec.fit_transform(x_train)\n",
        "\n",
        "# 測試資料 用 訓練資料 的設定來轉換\n",
        "x_test_count = vec.transform(x_test)\n",
        "\n",
        "# 列出分詞轉換成代碼的字典\n",
        "# 確認逗號、句號、換行符號是否在 vec.vocabulary_ 的(字典)裡面\n",
        "# vec.vocabulary_[\"\\r\\n\"]\n"
      ],
      "metadata": {
        "id": "om6G5tUjIy6h"
      },
      "execution_count": 17,
      "outputs": []
    },
    {
      "cell_type": "code",
      "source": [
        "# 帶入模型\n",
        "\n",
        "# 文字的話用 MultinomialNB 模型做訓練效果最好\n",
        "from sklearn.naive_bayes import MultinomialNB\n",
        "\n",
        "# MultinomialNB 內有一個參數 alpha=1.0 ，這個 alpha 要根據使用的樣本數來做改正，通常為總數的 1/100\n",
        "clf = MultinomialNB(alpha=0.11)\n",
        "clf.fit(x_train_count, y_train)\n",
        "\n",
        "from sklearn.metrics import accuracy_score\n",
        "\n",
        "pre = clf.predict(x_test_count)\n",
        "accuracy_score(y_test, pre)"
      ],
      "metadata": {
        "colab": {
          "base_uri": "https://localhost:8080/"
        },
        "id": "jvpqyuUtOqHC",
        "outputId": "2b132b83-23c1-47d0-e94c-01dd69db4ac2"
      },
      "execution_count": 18,
      "outputs": [
        {
          "output_type": "execute_result",
          "data": {
            "text/plain": [
              "0.8666666666666667"
            ]
          },
          "metadata": {},
          "execution_count": 18
        }
      ]
    },
    {
      "cell_type": "code",
      "source": [
        "# 另一種評估標準\n",
        "from sklearn.metrics import confusion_matrix\n",
        "\n",
        "mat = confusion_matrix(y_test, pre)\n",
        "\n",
        "# 因為 mat 不好理解，所以轉換成 dataframe 加入 col and index\n",
        "pd.DataFrame(mat,\n",
        "      columns=[\"{}(預測值)\".format(n) for n in names],\n",
        "      index=[\"{}(真實值)\".format(n) for n in names])"
      ],
      "metadata": {
        "colab": {
          "base_uri": "https://localhost:8080/",
          "height": 143
        },
        "id": "GVaCCYb0QBKQ",
        "outputId": "a6ec43df-78a8-4dc6-88aa-df6aa1e03ce3"
      },
      "execution_count": 19,
      "outputs": [
        {
          "output_type": "execute_result",
          "data": {
            "text/plain": [
              "          李白(預測值)  杜甫(預測值)  白居易(預測值)\n",
              "李白(真實值)         8        1         1\n",
              "杜甫(真實值)         0       10         0\n",
              "白居易(真實值)        1        1         8"
            ],
            "text/html": [
              "\n",
              "  <div id=\"df-210e432c-3f6a-408f-bc6d-f3c4c19f7c4c\">\n",
              "    <div class=\"colab-df-container\">\n",
              "      <div>\n",
              "<style scoped>\n",
              "    .dataframe tbody tr th:only-of-type {\n",
              "        vertical-align: middle;\n",
              "    }\n",
              "\n",
              "    .dataframe tbody tr th {\n",
              "        vertical-align: top;\n",
              "    }\n",
              "\n",
              "    .dataframe thead th {\n",
              "        text-align: right;\n",
              "    }\n",
              "</style>\n",
              "<table border=\"1\" class=\"dataframe\">\n",
              "  <thead>\n",
              "    <tr style=\"text-align: right;\">\n",
              "      <th></th>\n",
              "      <th>李白(預測值)</th>\n",
              "      <th>杜甫(預測值)</th>\n",
              "      <th>白居易(預測值)</th>\n",
              "    </tr>\n",
              "  </thead>\n",
              "  <tbody>\n",
              "    <tr>\n",
              "      <th>李白(真實值)</th>\n",
              "      <td>8</td>\n",
              "      <td>1</td>\n",
              "      <td>1</td>\n",
              "    </tr>\n",
              "    <tr>\n",
              "      <th>杜甫(真實值)</th>\n",
              "      <td>0</td>\n",
              "      <td>10</td>\n",
              "      <td>0</td>\n",
              "    </tr>\n",
              "    <tr>\n",
              "      <th>白居易(真實值)</th>\n",
              "      <td>1</td>\n",
              "      <td>1</td>\n",
              "      <td>8</td>\n",
              "    </tr>\n",
              "  </tbody>\n",
              "</table>\n",
              "</div>\n",
              "      <button class=\"colab-df-convert\" onclick=\"convertToInteractive('df-210e432c-3f6a-408f-bc6d-f3c4c19f7c4c')\"\n",
              "              title=\"Convert this dataframe to an interactive table.\"\n",
              "              style=\"display:none;\">\n",
              "        \n",
              "  <svg xmlns=\"http://www.w3.org/2000/svg\" height=\"24px\"viewBox=\"0 0 24 24\"\n",
              "       width=\"24px\">\n",
              "    <path d=\"M0 0h24v24H0V0z\" fill=\"none\"/>\n",
              "    <path d=\"M18.56 5.44l.94 2.06.94-2.06 2.06-.94-2.06-.94-.94-2.06-.94 2.06-2.06.94zm-11 1L8.5 8.5l.94-2.06 2.06-.94-2.06-.94L8.5 2.5l-.94 2.06-2.06.94zm10 10l.94 2.06.94-2.06 2.06-.94-2.06-.94-.94-2.06-.94 2.06-2.06.94z\"/><path d=\"M17.41 7.96l-1.37-1.37c-.4-.4-.92-.59-1.43-.59-.52 0-1.04.2-1.43.59L10.3 9.45l-7.72 7.72c-.78.78-.78 2.05 0 2.83L4 21.41c.39.39.9.59 1.41.59.51 0 1.02-.2 1.41-.59l7.78-7.78 2.81-2.81c.8-.78.8-2.07 0-2.86zM5.41 20L4 18.59l7.72-7.72 1.47 1.35L5.41 20z\"/>\n",
              "  </svg>\n",
              "      </button>\n",
              "      \n",
              "  <style>\n",
              "    .colab-df-container {\n",
              "      display:flex;\n",
              "      flex-wrap:wrap;\n",
              "      gap: 12px;\n",
              "    }\n",
              "\n",
              "    .colab-df-convert {\n",
              "      background-color: #E8F0FE;\n",
              "      border: none;\n",
              "      border-radius: 50%;\n",
              "      cursor: pointer;\n",
              "      display: none;\n",
              "      fill: #1967D2;\n",
              "      height: 32px;\n",
              "      padding: 0 0 0 0;\n",
              "      width: 32px;\n",
              "    }\n",
              "\n",
              "    .colab-df-convert:hover {\n",
              "      background-color: #E2EBFA;\n",
              "      box-shadow: 0px 1px 2px rgba(60, 64, 67, 0.3), 0px 1px 3px 1px rgba(60, 64, 67, 0.15);\n",
              "      fill: #174EA6;\n",
              "    }\n",
              "\n",
              "    [theme=dark] .colab-df-convert {\n",
              "      background-color: #3B4455;\n",
              "      fill: #D2E3FC;\n",
              "    }\n",
              "\n",
              "    [theme=dark] .colab-df-convert:hover {\n",
              "      background-color: #434B5C;\n",
              "      box-shadow: 0px 1px 3px 1px rgba(0, 0, 0, 0.15);\n",
              "      filter: drop-shadow(0px 1px 2px rgba(0, 0, 0, 0.3));\n",
              "      fill: #FFFFFF;\n",
              "    }\n",
              "  </style>\n",
              "\n",
              "      <script>\n",
              "        const buttonEl =\n",
              "          document.querySelector('#df-210e432c-3f6a-408f-bc6d-f3c4c19f7c4c button.colab-df-convert');\n",
              "        buttonEl.style.display =\n",
              "          google.colab.kernel.accessAllowed ? 'block' : 'none';\n",
              "\n",
              "        async function convertToInteractive(key) {\n",
              "          const element = document.querySelector('#df-210e432c-3f6a-408f-bc6d-f3c4c19f7c4c');\n",
              "          const dataTable =\n",
              "            await google.colab.kernel.invokeFunction('convertToInteractive',\n",
              "                                                     [key], {});\n",
              "          if (!dataTable) return;\n",
              "\n",
              "          const docLinkHtml = 'Like what you see? Visit the ' +\n",
              "            '<a target=\"_blank\" href=https://colab.research.google.com/notebooks/data_table.ipynb>data table notebook</a>'\n",
              "            + ' to learn more about interactive tables.';\n",
              "          element.innerHTML = '';\n",
              "          dataTable['output_type'] = 'display_data';\n",
              "          await google.colab.output.renderOutput(dataTable, element);\n",
              "          const docLink = document.createElement('div');\n",
              "          docLink.innerHTML = docLinkHtml;\n",
              "          element.appendChild(docLink);\n",
              "        }\n",
              "      </script>\n",
              "    </div>\n",
              "  </div>\n",
              "  "
            ]
          },
          "metadata": {},
          "execution_count": 19
        }
      ]
    },
    {
      "cell_type": "code",
      "source": [
        "# 讓使用者輸入\n",
        "\n",
        "p = input(\"請輸入一首詩: \")\n",
        "\n",
        "# 進行分詞，轉換為詞的代碼\n",
        "count = vec.transform([change(p)])\n",
        "\n",
        "# 算出來的機率是一個list -> [[p1,p2,p3], [p1,p2,p3]]\n",
        "# predict_proba 可以列出所有選項的機率\n",
        "prob = clf.predict_proba(count)[0]\n",
        "\n",
        "# zip 可以把兩個數量一樣的 list 依相同index合併成一個 tuple\n",
        "for n, pr in zip(names, prob):\n",
        "  print(n, \"的機率:\", pr)"
      ],
      "metadata": {
        "id": "_qMMSGITFJeE",
        "colab": {
          "base_uri": "https://localhost:8080/"
        },
        "outputId": "7f3823fa-fc00-4234-8b0d-b320702bcbdf"
      },
      "execution_count": 20,
      "outputs": [
        {
          "output_type": "stream",
          "name": "stdout",
          "text": [
            "請輸入一首詩: 君不見黃河之水天上來\n",
            "李白 的機率: 0.9787587156184794\n",
            "杜甫 的機率: 0.013463974308343701\n",
            "白居易 的機率: 0.007777310073178\n"
          ]
        }
      ]
    }
  ]
}